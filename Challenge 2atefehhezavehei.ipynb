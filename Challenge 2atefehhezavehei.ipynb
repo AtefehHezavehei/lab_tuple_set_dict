{
 "cells": [
  {
   "cell_type": "code",
   "execution_count": 1,
   "id": "9ca672d2",
   "metadata": {},
   "outputs": [],
   "source": [
    "import random"
   ]
  },
  {
   "cell_type": "code",
   "execution_count": 23,
   "id": "5695d462",
   "metadata": {},
   "outputs": [
    {
     "name": "stdout",
     "output_type": "stream",
     "text": [
      "[665, 434, 505, 241, 829, 822, 758, 51, 624, 260, 920, 966, 563, 562, 432, 475, 74, 666, 155, 545, 150, 112, 118, 29, 493, 836, 417, 779, 24, 64, 660, 956, 705, 127, 227, 143, 370, 787, 344, 890, 792, 445, 28, 968, 401, 623, 445, 749, 127, 588, 389, 777, 534, 1, 115, 731, 388, 311, 189, 52, 819, 832, 42, 475, 931, 982, 134, 260, 892, 880, 374, 713, 742, 771, 346, 56, 118, 937, 477, 751]\n"
     ]
    }
   ],
   "source": [
    "#In the cell below, create a list named sample_list_1 with 80 random values.\n",
    "#RandomListOfIntegers = [random.randint(Start, Stop) for iter in range(limit)]\n",
    "sample_list_1 = [random.randint(1,1000) for iter in range(80)]\n",
    "print(sample_list_1)\n",
    "#Numbers are reapting."
   ]
  },
  {
   "cell_type": "code",
   "execution_count": 10,
   "id": "d38f4843",
   "metadata": {},
   "outputs": [
    {
     "name": "stdout",
     "output_type": "stream",
     "text": [
      "54\n",
      "{1, 2, 5, 6, 7, 8, 9, 10, 12, 19, 20, 22, 23, 24, 25, 28, 29, 31, 32, 34, 35, 37, 40, 41, 43, 46, 47, 48, 53, 55, 57, 58, 59, 60, 63, 65, 66, 67, 69, 70, 72, 73, 74, 75, 80, 81, 83, 84, 86, 87, 88, 97, 99, 100}\n"
     ]
    }
   ],
   "source": [
    "#Convert sample_list_1 to a set called set1. Print the length of the set. Is its length still 80?\n",
    "set1 = set(sample_list_1)\n",
    "length=len(set1)\n",
    "print(length)\n",
    "print(set1)"
   ]
  },
  {
   "cell_type": "code",
   "execution_count": 22,
   "id": "680cb4e1",
   "metadata": {},
   "outputs": [
    {
     "name": "stdout",
     "output_type": "stream",
     "text": [
      "[873, 702, 265, 178, 586, 91, 494, 1000, 532, 216, 483, 662, 54, 74, 241, 692, 968, 879, 498, 387, 352, 420, 230, 417, 354, 614, 134, 147, 78, 627, 208, 170, 227, 576, 447, 489, 247, 935, 324, 34, 187, 495, 612, 805, 607, 106, 964, 538, 929, 696, 346, 130, 245, 246, 756, 965, 852, 94, 293, 703, 626, 222, 611, 554, 898, 223, 475, 553, 667, 361, 617, 940, 93, 998, 705, 668, 138, 579, 291, 9]\n",
      "80\n"
     ]
    }
   ],
   "source": [
    "#Create another list named sample_list_2 with 80 random values.\n",
    "sample_list_2=[]\n",
    "for i in range(80):\n",
    "    r=random.randint(1,1000)\n",
    "    if r not in sample_list_2: sample_list_2.append(r)\n",
    "print(sample_list_2)\n",
    "print(len(sample_list_2))\n",
    "#non-repeating values"
   ]
  },
  {
   "cell_type": "code",
   "execution_count": 24,
   "id": "7e9c8338",
   "metadata": {},
   "outputs": [
    {
     "name": "stdout",
     "output_type": "stream",
     "text": [
      "80\n",
      "{9, 532, 538, 34, 553, 554, 54, 576, 579, 586, 74, 78, 91, 93, 94, 607, 611, 612, 614, 617, 106, 626, 627, 130, 134, 138, 147, 662, 667, 668, 170, 178, 692, 696, 187, 702, 703, 705, 208, 216, 222, 223, 227, 230, 241, 756, 245, 246, 247, 265, 291, 805, 293, 324, 852, 346, 352, 354, 361, 873, 879, 898, 387, 417, 929, 420, 935, 940, 447, 964, 965, 968, 475, 483, 998, 1000, 489, 494, 495, 498}\n"
     ]
    }
   ],
   "source": [
    "#Convert sample_list_2 to a set called set2. Print the length of the set. Is its length still 80?¶\n",
    "set2 = set(sample_list_2)\n",
    "length=len(set2)\n",
    "print(length)\n",
    "print(set2)"
   ]
  },
  {
   "cell_type": "code",
   "execution_count": 29,
   "id": "65e096d9",
   "metadata": {},
   "outputs": [
    {
     "name": "stdout",
     "output_type": "stream",
     "text": [
      "{1, 2, 5, 6, 7, 8, 10, 12, 19, 20, 22, 23, 24, 25, 28, 29, 31, 32, 35, 37, 40, 41, 43, 46, 47, 48, 53, 55, 57, 58, 59, 60, 63, 65, 66, 67, 69, 70, 72, 73, 75, 80, 81, 83, 84, 86, 87, 88, 97, 99, 100}\n"
     ]
    }
   ],
   "source": [
    "#Identify the elements present in set1 but not in set2. Assign the elements to a new set named set3.\n",
    "#c = a.difference(b)\n",
    "set3=set1.difference(set2)\n",
    "print(set3)"
   ]
  },
  {
   "cell_type": "code",
   "execution_count": 30,
   "id": "7ef8aed1",
   "metadata": {},
   "outputs": [
    {
     "name": "stdout",
     "output_type": "stream",
     "text": [
      "{532, 538, 553, 554, 54, 576, 579, 586, 78, 91, 93, 94, 607, 611, 612, 614, 617, 106, 626, 627, 130, 134, 138, 147, 662, 667, 668, 170, 178, 692, 696, 187, 702, 703, 705, 208, 216, 222, 223, 227, 230, 241, 756, 245, 246, 247, 265, 291, 805, 293, 324, 852, 346, 352, 354, 361, 873, 879, 898, 387, 417, 929, 420, 935, 940, 447, 964, 965, 968, 475, 483, 998, 1000, 489, 494, 495, 498}\n"
     ]
    }
   ],
   "source": [
    "#Identify the elements present in set2 but not in set1. Assign the elements to a new set named set4\n",
    "#c = a.difference(b)\n",
    "set4=set2.difference(set1)\n",
    "print(set4)"
   ]
  },
  {
   "cell_type": "code",
   "execution_count": 28,
   "id": "282398ea",
   "metadata": {},
   "outputs": [
    {
     "name": "stdout",
     "output_type": "stream",
     "text": [
      "{9, 34, 74}\n"
     ]
    }
   ],
   "source": [
    "#Now Identify the elements shared between set1 and set2. Assign the elements to a new set named set5.\n",
    "#c = a.intersection(b)\n",
    "set5=set1.intersection(set2)\n",
    "print(set5)"
   ]
  },
  {
   "cell_type": "code",
   "execution_count": 35,
   "id": "e19baf96",
   "metadata": {},
   "outputs": [
    {
     "name": "stdout",
     "output_type": "stream",
     "text": [
      "Ture\n"
     ]
    }
   ],
   "source": [
    "a=len(set1)+len(set2)-len(set5)\n",
    "b=len(set3)+len(set4)+len(set5)\n",
    "if a==b:\n",
    "    print(\"Ture\")"
   ]
  },
  {
   "cell_type": "code",
   "execution_count": 47,
   "id": "8aacbd42",
   "metadata": {},
   "outputs": [
    {
     "name": "stdout",
     "output_type": "stream",
     "text": [
      "<class 'set'>\n",
      "set()\n"
     ]
    }
   ],
   "source": [
    "#Create an empty set called set6.\n",
    "set6 = set()\n",
    "print(type(set6))\n",
    "print(set6)"
   ]
  },
  {
   "cell_type": "code",
   "execution_count": 56,
   "id": "df1c8db8",
   "metadata": {},
   "outputs": [
    {
     "name": "stdout",
     "output_type": "stream",
     "text": [
      "{1, 2, 5, 6, 7, 8, 9, 10, 12, 19, 20, 22, 23, 24, 25, 28, 29, 31, 32, 34, 35, 37, 40, 41, 43, 46, 47, 48, 53, 55, 57, 58, 59, 60, 63, 65, 66, 67, 69, 70, 72, 73, 74, 75, 80, 81, 83, 84, 86, 87, 88, 97, 99, 100}\n",
      "54\n"
     ]
    }
   ],
   "source": [
    "#Add set3 and set5 to set6 using the Python Set update method.\n",
    "set6.update(set3,set5)\n",
    "print(set6)\n",
    "print(len(set6))"
   ]
  },
  {
   "cell_type": "code",
   "execution_count": 55,
   "id": "4d4e4461",
   "metadata": {},
   "outputs": [
    {
     "name": "stdout",
     "output_type": "stream",
     "text": [
      "sets are equal\n"
     ]
    }
   ],
   "source": [
    "#Check if set1 and set6 are equal\n",
    "if set1== set6:\n",
    "    print(\"sets are equal\")\n",
    "else:\n",
    "    print(\"sets are different\")"
   ]
  },
  {
   "cell_type": "code",
   "execution_count": 57,
   "id": "b16ced8b",
   "metadata": {},
   "outputs": [
    {
     "name": "stdout",
     "output_type": "stream",
     "text": [
      "False\n"
     ]
    }
   ],
   "source": [
    "#Check if set1 contains set2 using the Python Set issubset method. Then check if set1 contains set3.*\n",
    "z = set1.issubset(set2)\n",
    "print(z)"
   ]
  },
  {
   "cell_type": "code",
   "execution_count": 61,
   "id": "b4479a79",
   "metadata": {},
   "outputs": [
    {
     "name": "stdout",
     "output_type": "stream",
     "text": [
      "{1, 2, 5, 6, 7, 8, 9, 10, 12, 19, 20, 532, 22, 23, 24, 25, 538, 28, 29, 31, 32, 34, 35, 37, 40, 41, 553, 43, 554, 46, 47, 48, 53, 54, 55, 57, 58, 59, 60, 63, 576, 65, 66, 67, 579, 69, 70, 72, 73, 74, 75, 586, 78, 80, 81, 83, 84, 86, 87, 88, 91, 93, 94, 607, 97, 99, 100, 611, 612, 614, 617, 106, 626, 627, 130, 134, 138, 147, 662, 667, 668, 170, 178, 692, 696, 187, 702, 703, 705, 208, 216, 222, 223, 227, 230, 241, 756, 245, 246, 247, 265, 291, 805, 293, 324, 852, 346, 352, 354, 361, 873, 879, 898, 387, 417, 929, 420, 935, 940, 447, 964, 965, 968, 475, 483, 998, 1000, 489, 494, 495, 498}\n",
      "{1, 2, 5, 6, 7, 8, 9, 10, 12, 19, 20, 532, 22, 23, 24, 25, 538, 28, 29, 31, 32, 34, 35, 37, 40, 41, 553, 43, 554, 46, 47, 48, 53, 54, 55, 57, 58, 59, 60, 63, 576, 65, 66, 67, 579, 69, 70, 72, 73, 74, 75, 586, 78, 80, 81, 83, 84, 86, 87, 88, 91, 93, 94, 607, 97, 99, 100, 611, 612, 614, 617, 106, 626, 627, 130, 134, 138, 147, 662, 667, 668, 170, 178, 692, 696, 187, 702, 703, 705, 208, 216, 222, 223, 227, 230, 241, 756, 245, 246, 247, 265, 291, 805, 293, 324, 852, 346, 352, 354, 361, 873, 879, 898, 387, 417, 929, 420, 935, 940, 447, 964, 965, 968, 475, 483, 998, 1000, 489, 494, 495, 498}\n"
     ]
    }
   ],
   "source": [
    "#Using the Python Set union method, aggregate set3, set4, and set5. Then aggregate set1 and set2.\n",
    "unionset = set3.union(set4,set5)\n",
    "print(unionset)\n",
    "unionset_updated=unionset.union(set1,set2)\n",
    "print(unionset_updated)"
   ]
  },
  {
   "cell_type": "code",
   "execution_count": 70,
   "id": "ab8c0b97",
   "metadata": {
    "scrolled": true
   },
   "outputs": [],
   "source": [
    "#Using the pop method, remove the first element from set1.\n",
    "elem=set1.remove(1)"
   ]
  },
  {
   "cell_type": "code",
   "execution_count": 75,
   "id": "fed37315",
   "metadata": {},
   "outputs": [
    {
     "name": "stdout",
     "output_type": "stream",
     "text": [
      "{2, 5, 6, 7, 8, 10, 12, 20, 22, 23, 24, 25, 28, 32, 34, 35, 37, 40, 43, 46, 47, 48, 53, 55, 57, 58, 60, 63, 65, 66, 67, 70, 72, 73, 74, 75, 80, 83, 84, 86, 87, 88, 97, 100}\n"
     ]
    }
   ],
   "source": [
    "#Remove every element in the following list from set1 if they are present in the set. Print the remaining elements.list_to_remove = [1, 9, 11, 19, 21, 29, 31, 39, 41, 49, 51, 59, 61, 69, 71, 79, 81, 89, 91, 99]\n",
    "list_to_remove = [1, 9, 11, 19, 21, 29, 31, 39, 41, 49, 51, 59, 61, 69, 71, 79, 81, 89, 91, 99]\n",
    "set_to_remove=set(list_to_remove)\n",
    "Difrence=set1.difference(set_to_remove)\n",
    "print(Difrence)"
   ]
  },
  {
   "cell_type": "code",
   "execution_count": null,
   "id": "6a15f69c",
   "metadata": {},
   "outputs": [],
   "source": []
  }
 ],
 "metadata": {
  "kernelspec": {
   "display_name": "Python 3",
   "language": "python",
   "name": "python3"
  },
  "language_info": {
   "codemirror_mode": {
    "name": "ipython",
    "version": 3
   },
   "file_extension": ".py",
   "mimetype": "text/x-python",
   "name": "python",
   "nbconvert_exporter": "python",
   "pygments_lexer": "ipython3",
   "version": "3.9.2"
  }
 },
 "nbformat": 4,
 "nbformat_minor": 5
}
