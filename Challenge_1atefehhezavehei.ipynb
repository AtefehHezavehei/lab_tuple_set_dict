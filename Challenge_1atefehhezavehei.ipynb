{
 "cells": [
  {
   "cell_type": "code",
   "execution_count": 16,
   "id": "cbf2cf53",
   "metadata": {},
   "outputs": [
    {
     "data": {
      "text/plain": [
       "tuple"
      ]
     },
     "execution_count": 16,
     "metadata": {},
     "output_type": "execute_result"
    }
   ],
   "source": [
    "tup = (\"I\",)\n",
    "type(tup)"
   ]
  },
  {
   "cell_type": "code",
   "execution_count": 13,
   "id": "63bd656a",
   "metadata": {},
   "outputs": [
    {
     "ename": "AttributeError",
     "evalue": "'tuple' object has no attribute 'append'",
     "output_type": "error",
     "traceback": [
      "\u001b[1;31m---------------------------------------------------------------------------\u001b[0m",
      "\u001b[1;31mAttributeError\u001b[0m                            Traceback (most recent call last)",
      "\u001b[1;32m<ipython-input-13-d5d438328d31>\u001b[0m in \u001b[0;36m<module>\u001b[1;34m\u001b[0m\n\u001b[1;32m----> 1\u001b[1;33m \u001b[0mtup\u001b[0m\u001b[1;33m.\u001b[0m\u001b[0mappend\u001b[0m\u001b[1;33m(\u001b[0m\u001b[1;34m\"I\"\u001b[0m\u001b[1;33m,\u001b[0m \u001b[1;34m\"r\"\u001b[0m\u001b[1;33m,\u001b[0m \u001b[1;34m\"o\"\u001b[0m\u001b[1;33m,\u001b[0m \u001b[1;34m\"n\"\u001b[0m\u001b[1;33m,\u001b[0m \u001b[1;34m\"h\"\u001b[0m\u001b[1;33m,\u001b[0m \u001b[1;34m\"a\"\u001b[0m\u001b[1;33m,\u001b[0m \u001b[1;34m\"c\"\u001b[0m\u001b[1;33m,\u001b[0m \u001b[1;34m\"k\"\u001b[0m\u001b[1;33m)\u001b[0m\u001b[1;33m\u001b[0m\u001b[1;33m\u001b[0m\u001b[0m\n\u001b[0m",
      "\u001b[1;31mAttributeError\u001b[0m: 'tuple' object has no attribute 'append'"
     ]
    }
   ],
   "source": [
    "tup.append(\"I\", \"r\", \"o\", \"n\", \"h\", \"a\", \"c\", \"k\")"
   ]
  },
  {
   "cell_type": "code",
   "execution_count": 27,
   "id": "355fe61d",
   "metadata": {},
   "outputs": [],
   "source": [
    "#\"I\", \"r\", \"o\", \"n\", \"h\", \"a\", \"c\", \"k\" not possible add/delete/modify tuple withouth changing to list"
   ]
  },
  {
   "cell_type": "code",
   "execution_count": 33,
   "id": "6f2342bf",
   "metadata": {},
   "outputs": [
    {
     "name": "stdout",
     "output_type": "stream",
     "text": [
      "('I', 'r', 'o', 'n', 'h', 'a', 'c', 'k')\n",
      "('I', 'r', 'o', 'n')\n",
      "('h', 'a', 'c', 'k')\n"
     ]
    }
   ],
   "source": [
    "#Split tup into tup1 and tup2 ,tup1 should be (\"I\", \"r\", \"o\", \"n\") and tup2 should be (\"h\", \"a\", \"c\", \"k\").\n",
    "tup=(\"I\", \"r\", \"o\", \"n\", \"h\", \"a\", \"c\", \"k\",)\n",
    "print(tup)\n",
    "tup1=tup [0:4]\n",
    "tup2=tup [4:8]\n",
    "print(tup1)\n",
    "print(tup2)"
   ]
  },
  {
   "cell_type": "code",
   "execution_count": 34,
   "id": "f14a39c4",
   "metadata": {},
   "outputs": [
    {
     "name": "stdout",
     "output_type": "stream",
     "text": [
      "('I', 'r', 'o', 'n', 'h', 'a', 'c', 'k')\n"
     ]
    }
   ],
   "source": [
    "#Add tup1 and tup2 into tup3 using the + operator\n",
    "tup3=tup1+tup2\n",
    "print(tup3)"
   ]
  },
  {
   "cell_type": "code",
   "execution_count": 36,
   "id": "37042552",
   "metadata": {},
   "outputs": [
    {
     "name": "stdout",
     "output_type": "stream",
     "text": [
      "8\n",
      "8\n"
     ]
    }
   ],
   "source": [
    "#Count the number of elements in tup1 and tup2. addthe two countscheck if the sum is the same as the number of elements in tup3\n",
    "counttotal= len(tup1)+len(tup2)\n",
    "counttup3=len(tup3)\n",
    "print(counttotal)\n",
    "print(counttup3)"
   ]
  },
  {
   "cell_type": "code",
   "execution_count": 39,
   "id": "a1a10f32",
   "metadata": {},
   "outputs": [
    {
     "name": "stdout",
     "output_type": "stream",
     "text": [
      "4\n"
     ]
    }
   ],
   "source": [
    "#What is the index number of \"h\" in tup3?\n",
    "print(tup3.index(\"h\"))"
   ]
  },
  {
   "cell_type": "code",
   "execution_count": 45,
   "id": "e8fa1b04",
   "metadata": {},
   "outputs": [
    {
     "name": "stdout",
     "output_type": "stream",
     "text": [
      "a\n",
      "c\n"
     ]
    }
   ],
   "source": [
    "#Now,use a FOR loop to check whether each letter in the following list is present in tup3:letters = [\"a\", \"b\", \"c\", \"d\", \"e\"] ,For each letter you check, print True if it is present in tup3 otherwise print False.\n",
    "letters = [\"a\", \"b\", \"c\", \"d\", \"e\"]\n",
    "list3=list(tup3)\n",
    "for i in letters:\n",
    "    if i in list3:\n",
    "        print(i)\n"
   ]
  },
  {
   "cell_type": "code",
   "execution_count": 48,
   "id": "60481305",
   "metadata": {},
   "outputs": [
    {
     "name": "stdout",
     "output_type": "stream",
     "text": [
      "1\n",
      "1\n"
     ]
    }
   ],
   "source": [
    "#How many times does each letter in letters appear in tup3?\n",
    "letters = [\"a\", \"b\", \"c\", \"d\", \"e\"]\n",
    "list3=list(tup3)\n",
    "for i in letters:\n",
    "    if i in list3:\n",
    "        m=list3.count(i)\n",
    "        print(m)"
   ]
  },
  {
   "cell_type": "code",
   "execution_count": null,
   "id": "797a90f9",
   "metadata": {},
   "outputs": [],
   "source": []
  }
 ],
 "metadata": {
  "kernelspec": {
   "display_name": "Python 3",
   "language": "python",
   "name": "python3"
  },
  "language_info": {
   "codemirror_mode": {
    "name": "ipython",
    "version": 3
   },
   "file_extension": ".py",
   "mimetype": "text/x-python",
   "name": "python",
   "nbconvert_exporter": "python",
   "pygments_lexer": "ipython3",
   "version": "3.9.2"
  }
 },
 "nbformat": 4,
 "nbformat_minor": 5
}
